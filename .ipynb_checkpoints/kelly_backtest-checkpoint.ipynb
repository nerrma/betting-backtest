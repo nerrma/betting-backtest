{
 "cells": [
  {
   "cell_type": "markdown",
   "id": "eb8e048d",
   "metadata": {},
   "source": [
    "The following is a simple backtest of a betting strategy based on the Kelly criteron. I'll try to compare different ratios of the criterion and see which has the best returns.\n",
    "\n",
    "This experiment is inspired by the following [paper](http://www.edwardothorp.com/wp-content/uploads/2016/11/KellySimulationsNew.pdf)"
   ]
  },
  {
   "cell_type": "code",
   "execution_count": 1,
   "id": "1009ef7b",
   "metadata": {},
   "outputs": [],
   "source": [
    "import numpy as np\n",
    "import pandas as pd\n",
    "import matplotlib.pyplot as plt"
   ]
  },
  {
   "cell_type": "code",
   "execution_count": 2,
   "id": "b4da2012",
   "metadata": {},
   "outputs": [],
   "source": [
    "df = pd.read_csv('epl_odds.csv')"
   ]
  },
  {
   "cell_type": "code",
   "execution_count": 3,
   "id": "bda61fb9",
   "metadata": {},
   "outputs": [
    {
     "name": "stdout",
     "output_type": "stream",
     "text": [
      "14.65\n",
      "25.64\n",
      "10.58\n"
     ]
    }
   ],
   "source": [
    "print(max(df['AvgH']))\n",
    "print(max(df['AvgA']))\n",
    "print(max(df['AvgD']))"
   ]
  },
  {
   "cell_type": "markdown",
   "id": "fe9b37eb",
   "metadata": {},
   "source": [
    "The columns we need are:\n",
    "- FTR - Full time result (either **H**ome or **A**way)\n",
    "- AvgH - average odds for the home team to win\n",
    "- AvgA - average odds for the away team to win\n",
    "- AvgD - average odds for a draw"
   ]
  },
  {
   "cell_type": "code",
   "execution_count": 4,
   "id": "8db0065a",
   "metadata": {},
   "outputs": [],
   "source": [
    "o_cols = ['FTR', 'AvgH', 'AvgA', 'AvgD']\n",
    "df = df.filter(o_cols)"
   ]
  },
  {
   "cell_type": "markdown",
   "id": "9f62f027",
   "metadata": {},
   "source": [
    "Assume we start with a balance of $100.\n",
    "\n",
    "The strategy is to pick the outcome with the highest probability (lowest odds) and place Kelly bets on the outcome."
   ]
  },
  {
   "cell_type": "code",
   "execution_count": 22,
   "id": "76b6d500",
   "metadata": {},
   "outputs": [],
   "source": [
    "starting_bal = 100\n",
    "k_factor = 1\n",
    "bal = starting_bal\n",
    "bet = 0\n",
    "\n",
    "bal_history = np.empty(len(df))\n",
    "\n",
    "outcomes = ['H', 'A', 'D']\n",
    "for i, row in df.iterrows():\n",
    "    all_odds = row.drop('FTR')\n",
    "    min_idx = np.argmin(all_odds) + 1\n",
    "    \n",
    "    odds = row[min_idx]\n",
    "    \n",
    "    p = 1/odds\n",
    "    \n",
    "    bet = (p + (p-1)/odds)*k_factor\n",
    "    \n",
    "    bet_amt = bet*bal\n",
    "    bal -= bet_amt\n",
    "    if row['FTR'] == outcomes[min_idx-1]:\n",
    "        bal += bet_amt*odds\n",
    "        #print(f\"Won with balance ${bal:.2f}, odds {odds}, Kelly {bet:.2f}\")\n",
    "    #else:\n",
    "        #print(f\"Lost with balance ${bal:.2f}\")\n",
    "        \n",
    "    \n",
    "    bal_history[i] = bal\n",
    "        \n",
    "    if bal <= 0:\n",
    "        break"
   ]
  },
  {
   "cell_type": "code",
   "execution_count": 21,
   "id": "47644417",
   "metadata": {},
   "outputs": [
    {
     "data": {
      "image/png": "[encoded data removed]",
      "text/plain": [
       "<Figure size 432x288 with 1 Axes>"
      ]
     },
     "metadata": {
      "needs_background": "light"
     },
     "output_type": "display_data"
    },
    {
     "name": "stdout",
     "output_type": "stream",
     "text": [
      "Final balance of $28.30\n"
     ]
    }
   ],
   "source": [
    "plt.plot(bal_history)\n",
    "plt.show()\n",
    "\n",
    "print(f\"Final balance of ${bal:.2f}\")"
   ]
  },
  {
   "cell_type": "code",
   "execution_count": null,
   "id": "ccf4a12f",
   "metadata": {},
   "outputs": [],
   "source": []
  }
 ],
 "metadata": {
  "kernelspec": {
   "display_name": "Python 3",
   "language": "python",
   "name": "python3"
  },
  "language_info": {
   "codemirror_mode": {
    "name": "ipython",
    "version": 3
   },
   "file_extension": ".py",
   "mimetype": "text/x-python",
   "name": "python",
   "nbconvert_exporter": "python",
   "pygments_lexer": "ipython3",
   "version": "3.9.7"
  }
 },
 "nbformat": 4,
 "nbformat_minor": 5
}
