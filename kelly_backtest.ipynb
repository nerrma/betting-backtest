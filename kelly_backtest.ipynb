{
 "cells": [
  {
   "cell_type": "markdown",
   "id": "80e3a8d0",
   "metadata": {},
   "source": [
    "The following is a simple backtest of a betting strategy based on the Kelly criteron. I'll try to compare different ratios of the criterion and see which has the best returns.\n",
    "\n",
    "This experiment is inspired by the following [paper](http://www.edwardothorp.com/wp-content/uploads/2016/11/KellySimulationsNew.pdf)"
   ]
  },
  {
   "cell_type": "code",
   "execution_count": 1,
   "id": "6a4f9eb7",
   "metadata": {},
   "outputs": [],
   "source": [
    "import numpy as np\n",
    "import pandas as pd\n",
    "import matplotlib.pyplot as plt\n",
    "import scipy.stats"
   ]
  },
  {
   "cell_type": "code",
   "execution_count": 2,
   "id": "4362f375",
   "metadata": {},
   "outputs": [],
   "source": [
    "df = pd.read_csv('epl_odds.csv')"
   ]
  },
  {
   "cell_type": "markdown",
   "id": "497022fe",
   "metadata": {},
   "source": [
    "The columns we need are:\n",
    "- FTR - Full time result (either **H**ome or **A**way)\n",
    "- AvgH - average odds for the home team to win\n",
    "- AvgA - average odds for the away team to win\n",
    "- AvgD - average odds for a draw"
   ]
  },
  {
   "cell_type": "code",
   "execution_count": 3,
   "id": "727f3c80",
   "metadata": {},
   "outputs": [],
   "source": [
    "o_cols = ['FTR', 'AvgH', 'AvgA', 'AvgD']\n",
    "df = df.filter(o_cols)"
   ]
  },
  {
   "cell_type": "markdown",
   "id": "aa62b148",
   "metadata": {},
   "source": [
    "To better understand the data, and to possibly find a method of picking the winning team. We can plot a histogram of the odds of the winning teams."
   ]
  },
  {
   "cell_type": "code",
   "execution_count": 4,
   "id": "8ae2a5aa",
   "metadata": {},
   "outputs": [
    {
     "data": {
      "image/png": "[encoded data removed]",
      "text/plain": [
       "<Figure size 432x288 with 1 Axes>"
      ]
     },
     "metadata": {
      "needs_background": "light"
     },
     "output_type": "display_data"
    },
    {
     "data": {
      "text/plain": [
       "DescribeResult(nobs=760, minmax=(1.07, 21.61), mean=2.975407894736842, variance=3.835364523784758, skewness=3.399376543310549, kurtosis=19.482947166818523)"
      ]
     },
     "execution_count": 4,
     "metadata": {},
     "output_type": "execute_result"
    }
   ],
   "source": [
    "df_train = pd.concat(map(pd.read_csv, ['epl_odds_2019.csv', 'epl_odds_2020.csv']), ignore_index=True)\n",
    "df_train = df_train.filter(o_cols)\n",
    "ideal_odds = np.zeros(len(df_train))\n",
    "\n",
    "for i, row in df_train.iterrows():\n",
    "    ideal_odds[i] = row['Avg'+row['FTR']]\n",
    "\n",
    "plt.hist(ideal_odds)\n",
    "plt.xlabel(\"Odds of the winning team\")\n",
    "plt.ylabel(\"Frequency of odds\")\n",
    "plt.show()\n",
    "\n",
    "scipy.stats.describe(ideal_odds)"
   ]
  },
  {
   "cell_type": "code",
   "execution_count": 5,
   "id": "68ef95ae",
   "metadata": {},
   "outputs": [
    {
     "data": {
      "image/png": "[encoded data removed]",
      "text/plain": [
       "<Figure size 432x288 with 1 Axes>"
      ]
     },
     "metadata": {
      "needs_background": "light"
     },
     "output_type": "display_data"
    }
   ],
   "source": [
    "_ = scipy.stats.probplot(ideal_odds, plot=plt)"
   ]
  },
  {
   "cell_type": "markdown",
   "id": "65303ca2",
   "metadata": {},
   "source": [
    "Assume we start with a balance of $100.\n",
    "\n",
    "The strategy is to pick the outcome with the highest probability (lowest odds) and place Kelly bets on the outcome."
   ]
  },
  {
   "cell_type": "markdown",
   "id": "4abc643a",
   "metadata": {},
   "source": [
    "The formula for placing Kelly bets,\n",
    "$f = p + \\frac{p-1}{b}$\n",
    "\n",
    "- where $f$ is the fraction of our capital we bet\n",
    "- $p$ is the probability of winning\n",
    "- $b$ is the ratio of return (i.e 2-to-1 = 2.0)"
   ]
  },
  {
   "cell_type": "code",
   "execution_count": 6,
   "id": "ca79f468",
   "metadata": {},
   "outputs": [],
   "source": [
    "def run_kelly(k_factor, can_plot):\n",
    "    starting_bal = 100\n",
    "    bal = starting_bal\n",
    "    bet = 0\n",
    "    \n",
    "    bal_history = np.zeros(len(df))\n",
    "    result_history = ['w']*len(df)\n",
    "    \n",
    "    outcomes = ['H', 'A', 'D']\n",
    "    for i, row in df.iterrows():\n",
    "        all_odds = row.drop('FTR')\n",
    "        \n",
    "        bal_history[i] = bal\n",
    "        \n",
    "        idx = np.argmin(all_odds) + 1\n",
    "        odds = row[idx]\n",
    "        if odds > np.quantile(ideal_odds, 0.25):\n",
    "            continue\n",
    "\n",
    "        p = scipy.stats.percentileofscore(ideal_odds, odds)/100\n",
    "        \n",
    "        bet = (p + (p-1)/odds)*k_factor\n",
    "        \n",
    "        bet_amt = bet*bal\n",
    "        bal -= bet_amt\n",
    "        \n",
    "        if row['FTR'] == outcomes[idx-1]:\n",
    "            #print(f\"Made ${(bet_amt*odds):.2f}, betting ${(bet_amt):.2f} with balance ${(bal):.2f}, odds {odds}\")\n",
    "            bal += bet_amt*odds\n",
    "            result_history[i] = 'g'\n",
    "        else:\n",
    "            result_history[i] = 'r'\n",
    "            #print(f\"Lost ${bet_amt:.2f} with balance ${(bal + bet_amt):.2f}, odds {odds}\")\n",
    "\n",
    "        if bal <= 0:\n",
    "            break\n",
    "            \n",
    "    def generate_plots():\n",
    "        fig, axs = plt.subplots(2, sharex=True, gridspec_kw={'height_ratios': [10, 1], 'hspace': 0})\n",
    "\n",
    "        #axs[0].plot(bal_history)\n",
    "        axs[0].plot(np.log(bal_history))\n",
    "\n",
    "        for i, col in enumerate(result_history):\n",
    "            axs[1].scatter(i, 0, c=col, marker='|', linewidths=[0.8])\n",
    "\n",
    "        axs[1].axes.get_yaxis().set_visible(False)\n",
    "        axs[1].axes.get_xaxis().set_visible(False)\n",
    "        plt.show()\n",
    "\n",
    "        bet_acc = result_history.count('g')/(result_history.count('g') + result_history.count('r'))*100\n",
    "        print(f\"Final balance of ${bal:.2f} with a maximum of ${max(bal_history):.2f}\")\n",
    "        print(f\"This strategy had a winning rate of {bet_acc:.2f}%\")\n",
    "\n",
    "    if can_plot:\n",
    "        generate_plots()\n",
    "    \n",
    "    return bal"
   ]
  },
  {
   "cell_type": "code",
   "execution_count": 7,
   "id": "89139671",
   "metadata": {},
   "outputs": [
    {
     "data": {
      "image/png": "[encoded data removed]",
      "text/plain": [
       "<Figure size 432x288 with 2 Axes>"
      ]
     },
     "metadata": {
      "needs_background": "light"
     },
     "output_type": "display_data"
    },
    {
     "name": "stdout",
     "output_type": "stream",
     "text": [
      "Final balance of $117.95 with a maximum of $191.33\n",
      "This strategy had a winning rate of 67.57%\n"
     ]
    },
    {
     "data": {
      "text/plain": [
       "117.94963304397155"
      ]
     },
     "execution_count": 7,
     "metadata": {},
     "output_type": "execute_result"
    }
   ],
   "source": [
    "run_kelly(0.25, True)"
   ]
  },
  {
   "cell_type": "code",
   "execution_count": 8,
   "id": "fee9acd9",
   "metadata": {},
   "outputs": [
    {
     "data": {
      "text/plain": [
       "[<matplotlib.lines.Line2D at 0x7fa4a042fdf0>]"
      ]
     },
     "execution_count": 8,
     "metadata": {},
     "output_type": "execute_result"
    },
    {
     "data": {
      "image/png": "[encoded data removed]",
      "text/plain": [
       "<Figure size 432x288 with 1 Axes>"
      ]
     },
     "metadata": {
      "needs_background": "light"
     },
     "output_type": "display_data"
    }
   ],
   "source": [
    "factors = np.linspace(0.01, 1, 25)\n",
    "bals = np.empty(len(factors))\n",
    "\n",
    "for i in range(len(factors)):\n",
    "    bals[i] = run_kelly(factors[i], False)\n",
    "    \n",
    "plt.plot(factors, bals)"
   ]
  }
 ],
 "metadata": {
  "kernelspec": {
   "display_name": "Python 3",
   "language": "python",
   "name": "python3"
  },
  "language_info": {
   "codemirror_mode": {
    "name": "ipython",
    "version": 3
   },
   "file_extension": ".py",
   "mimetype": "text/x-python",
   "name": "python",
   "nbconvert_exporter": "python",
   "pygments_lexer": "ipython3",
   "version": "3.9.7"
  }
 },
 "nbformat": 4,
 "nbformat_minor": 5
}
