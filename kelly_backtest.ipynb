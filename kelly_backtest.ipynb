{
 "cells": [
  {
   "cell_type": "markdown",
   "id": "80e3a8d0",
   "metadata": {},
   "source": [
    "The following is a simple backtest of a betting strategy based on the Kelly criteron. I'll try to compare different fractions of the criterion and see which has the best returns.\n",
    "\n",
    "This experiment is inspired by the following [paper](http://www.edwardothorp.com/wp-content/uploads/2016/11/KellySimulationsNew.pdf) by Edward O. Thorp et al."
   ]
  },
  {
   "cell_type": "code",
   "execution_count": 1,
   "id": "6a4f9eb7",
   "metadata": {},
   "outputs": [],
   "source": [
    "import numpy as np\n",
    "import pandas as pd\n",
    "import matplotlib.pyplot as plt\n",
    "import scipy.stats\n",
    "from scipy.stats._continuous_distns import _distn_names"
   ]
  },
  {
   "cell_type": "code",
   "execution_count": 2,
   "id": "8bd52708",
   "metadata": {},
   "outputs": [],
   "source": [
    "import warnings\n",
    "warnings.filterwarnings(\"ignore\", category=RuntimeWarning) "
   ]
  },
  {
   "cell_type": "code",
   "execution_count": 3,
   "id": "e3dd3182",
   "metadata": {},
   "outputs": [],
   "source": [
    "league = 'it'"
   ]
  },
  {
   "cell_type": "code",
   "execution_count": 4,
   "id": "4362f375",
   "metadata": {},
   "outputs": [],
   "source": [
    "df = pd.read_csv(f'{league}_odds_2021.csv')"
   ]
  },
  {
   "cell_type": "markdown",
   "id": "497022fe",
   "metadata": {},
   "source": [
    "The columns we need are:\n",
    "- FTR - Full time result (either **H**ome or **A**way)\n",
    "- AvgH - average odds for the home team to win\n",
    "- AvgA - average odds for the away team to win\n",
    "- AvgD - average odds for a draw"
   ]
  },
  {
   "cell_type": "code",
   "execution_count": 5,
   "id": "727f3c80",
   "metadata": {},
   "outputs": [],
   "source": [
    "o_cols = ['FTR', 'AvgH', 'AvgA', 'AvgD']\n",
    "df = df.filter(o_cols)"
   ]
  },
  {
   "cell_type": "markdown",
   "id": "aa62b148",
   "metadata": {},
   "source": [
    "To better understand the data, and to possibly find a method of picking the winning team. We can plot a histogram of the odds of the winning teams of the past two seasons."
   ]
  },
  {
   "cell_type": "code",
   "execution_count": 6,
   "id": "6eb297de",
   "metadata": {},
   "outputs": [],
   "source": [
    "df_train = pd.concat(map(pd.read_csv, [f'{league}_odds_2019.csv', f'{league}_odds_2020.csv']), ignore_index=True)\n",
    "df_train = df_train.filter(o_cols)"
   ]
  },
  {
   "cell_type": "code",
   "execution_count": 7,
   "id": "48fd9763",
   "metadata": {},
   "outputs": [
    {
     "data": {
      "image/png": "[encoded data removed]",
      "text/plain": [
       "<Figure size 432x288 with 1 Axes>"
      ]
     },
     "metadata": {
      "needs_background": "light"
     },
     "output_type": "display_data"
    },
    {
     "data": {
      "text/plain": [
       "DescribeResult(nobs=760, minmax=(1.14, 15.04), mean=2.780171052631579, variance=2.594157941716941, skewness=2.8962274667606267, kurtosis=15.008331328036238)"
      ]
     },
     "execution_count": 7,
     "metadata": {},
     "output_type": "execute_result"
    }
   ],
   "source": [
    "ideal_odds = np.zeros(len(df_train))\n",
    "for i, row in df_train.iterrows():\n",
    "    ideal_odds[i] = row['Avg'+row['FTR']]\n",
    "\n",
    "plt.hist(ideal_odds)\n",
    "plt.xlabel(\"Odds of the winning team\")\n",
    "plt.ylabel(\"Frequency of odds\")\n",
    "plt.show()\n",
    "\n",
    "scipy.stats.describe(ideal_odds)"
   ]
  },
  {
   "cell_type": "code",
   "execution_count": 8,
   "id": "b1468e4e",
   "metadata": {},
   "outputs": [],
   "source": [
    "def approximate_distribution(data, bins=300):\n",
    "    \n",
    "    y, x = np.histogram(data, bins=bins, density=True)\n",
    "    x = (x + np.roll(x, -1))[:-1] / 2.0\n",
    "    \n",
    "    res = []\n",
    "    \n",
    "    dist_names = [d for d in _distn_names if not d in ['levy_stable', 'studentized_range', 'erlang']]\n",
    "    for i in dist_names:\n",
    "        dist = getattr(scipy.stats, i)\n",
    "        \n",
    "        try:\n",
    "            params = dist.fit(data)\n",
    "\n",
    "            arg = params[:-2]\n",
    "            loc = params[-2]\n",
    "            scale = params[-1]\n",
    "\n",
    "            pdf = dist.pdf(x, loc=loc, scale=scale, *arg)\n",
    "            sse = np.sum(np.power(y-pdf, 2))\n",
    "\n",
    "            res.append((dist, params, sse))\n",
    "        except:\n",
    "            pass\n",
    "        \n",
    "    return sorted(res, key=lambda x:x[2])"
   ]
  },
  {
   "cell_type": "code",
   "execution_count": 9,
   "id": "4bdbc18e",
   "metadata": {},
   "outputs": [],
   "source": [
    "res = approximate_distribution(ideal_odds)"
   ]
  },
  {
   "cell_type": "code",
   "execution_count": 10,
   "id": "8472c971",
   "metadata": {},
   "outputs": [
    {
     "name": "stdout",
     "output_type": "stream",
     "text": [
      "(<scipy.stats._continuous_distns.exponnorm_gen object at 0x7fbd848f6700>, (40.33911747430781, 1.1880325678457941, 0.03946885517594641), 0.8409808032148268)\n"
     ]
    },
    {
     "data": {
      "image/png": "[encoded data removed]",
      "text/plain": [
       "<Figure size 432x288 with 1 Axes>"
      ]
     },
     "metadata": {
      "needs_background": "light"
     },
     "output_type": "display_data"
    },
    {
     "data": {
      "image/png": "[encoded data removed]",
      "text/plain": [
       "<Figure size 432x288 with 1 Axes>"
      ]
     },
     "metadata": {
      "needs_background": "light"
     },
     "output_type": "display_data"
    },
    {
     "name": "stdout",
     "output_type": "stream",
     "text": [
      "0.008007612401902627\n",
      "0.0\n"
     ]
    }
   ],
   "source": [
    "r = res[0]\n",
    "print(r)\n",
    "dist = r[0](*r[1])\n",
    "\n",
    "x = np.linspace(1, 20)\n",
    "\n",
    "plt.plot(x, dist.pdf(x))\n",
    "plt.show()\n",
    "\n",
    "plt.hist(ideal_odds)\n",
    "plt.show()\n",
    "\n",
    "test_odd = 1.1\n",
    "print(dist.pdf(test_odd))\n",
    "print(scipy.stats.percentileofscore(ideal_odds, test_odd)/100)"
   ]
  },
  {
   "cell_type": "code",
   "execution_count": 11,
   "id": "4bc83e73",
   "metadata": {},
   "outputs": [
    {
     "data": {
      "image/png": "[encoded data removed]",
      "text/plain": [
       "<Figure size 432x288 with 1 Axes>"
      ]
     },
     "metadata": {
      "needs_background": "light"
     },
     "output_type": "display_data"
    }
   ],
   "source": [
    "_ = scipy.stats.probplot(ideal_odds, plot=plt)"
   ]
  },
  {
   "cell_type": "markdown",
   "id": "65303ca2",
   "metadata": {},
   "source": [
    "Assume we start with a balance of $100.\n",
    "\n",
    "The strategy is to pick the outcome with the highest probability (and therefore lowest odds) and place Kelly bets on the outcome."
   ]
  },
  {
   "cell_type": "markdown",
   "id": "2c437d4a",
   "metadata": {},
   "source": [
    "The formula for placing Kelly bets is,\n",
    "$$f = p + \\frac{p-1}{b}$$\n",
    "\n",
    "where:\n",
    "- $f$ is the fraction of our capital we bet\n",
    "- $p$ is the probability of winning\n",
    "- $b$ is the ratio of return (i.e 2-to-1 = 2.0)"
   ]
  },
  {
   "cell_type": "markdown",
   "id": "1101d603",
   "metadata": {},
   "source": [
    "Here, $b$ is the odds which the bookmaker provides, though $p$ needs to be more carefully thought out.\n",
    "\n",
    "In previous iterations of this strategy, I chose to trust the bookmaker and set $p = \\frac{1}{b}$ as the probability of the side chosen winning. However, this almost always led to negative returns as we are always betting\n",
    "\n",
    "$$f = \\frac{1}{b^2}$$\n",
    "\n",
    "which leads to substantial ruin when the unlikely occurs, even with fractional Kelly bets.\n",
    "\n",
    "Instead, I opted to estimate $p$ by using the winning odds in previous years, as seen in the data above (`ideal_odds`). Here, I essentially try to estimate the probability that the odd I have selected is the one of the winning team. I do this by using the percentile of the selected odd as $p$.\n",
    "\n",
    "Also, if an odd is greater than the value of the first quartile of the winning odds, we choose not to take this bet as we deem it carries too much risk."
   ]
  },
  {
   "cell_type": "code",
   "execution_count": 12,
   "id": "ca79f468",
   "metadata": {},
   "outputs": [],
   "source": [
    "def run_kelly(X, k_factor, can_plot, metric=None):\n",
    "    starting_bal = 1000\n",
    "    bal = starting_bal\n",
    "    bet = 0\n",
    "    \n",
    "    bal_history = np.zeros(len(X))\n",
    "    result_history = ['w']*len(X)\n",
    "    \n",
    "    outcomes = ['H', 'A', 'D']\n",
    "    \n",
    "    dist_exp = dist.expect()\n",
    "    for i, row in X.iterrows():\n",
    "        all_odds = row.drop('FTR')\n",
    "        \n",
    "        bal_history[i] = bal\n",
    "        \n",
    "        idx = np.argmin(all_odds) + 1\n",
    "        odds = row[idx]\n",
    "        \n",
    "        if metric is None:\n",
    "            moment = scipy.stats.moment(ideal_odds, moment=4)\n",
    "            metric = np.quantile(ideal_odds, moment*np.min(ideal_odds)/np.sum(ideal_odds))\n",
    "        \n",
    "        #if odds > np.quantile(ideal_odds, 0.15):\n",
    "        if odds > metric:\n",
    "            continue\n",
    "\n",
    "        p = dist.pdf(odds)\n",
    "        \n",
    "        if pd.isna(p):\n",
    "            continue\n",
    "            \n",
    "        bet = (p + (p-1)/odds)*k_factor\n",
    "        \n",
    "        if bet < 0:\n",
    "            continue\n",
    "        \n",
    "        bet_amt = bet*bal\n",
    "        bal -= bet_amt\n",
    "        \n",
    "        if row['FTR'] == outcomes[idx-1]:\n",
    "            bal += bet_amt*odds\n",
    "            result_history[i] = 'g'\n",
    "        else:\n",
    "            result_history[i] = 'r'\n",
    "\n",
    "        if bal <= 0:\n",
    "            break\n",
    "            \n",
    "    def generate_plots():\n",
    "        fig, axs = plt.subplots(2, sharex=True, gridspec_kw={'height_ratios': [10, 1], 'hspace': 0})\n",
    "\n",
    "        axs[0].plot(np.log(bal_history))\n",
    "\n",
    "        for i, col in enumerate(result_history):\n",
    "            axs[1].scatter(i, 0, c=col, marker='|', linewidths=[0.8])\n",
    "\n",
    "        axs[1].axes.get_yaxis().set_visible(False)\n",
    "        axs[1].axes.get_xaxis().set_visible(False)\n",
    "        plt.show()\n",
    "\n",
    "        bet_acc = result_history.count('g')/(result_history.count('g') + result_history.count('r'))*100\n",
    "        print(f\"Final balance of ${bal:.2f} with a maximum of ${max(bal_history):.2f}, returns of {((bal - starting_bal)/starting_bal)*100:.2f}%\")\n",
    "        print(f\"This strategy had a winning rate of {bet_acc:.2f}%\")\n",
    "\n",
    "    if can_plot:\n",
    "        generate_plots()\n",
    "    \n",
    "    return bal"
   ]
  },
  {
   "cell_type": "markdown",
   "id": "0cd4f46e",
   "metadata": {},
   "source": [
    "As we've opted to use fractional Kelly bets where we bet ($\\alpha \\cdot f \\cdot s$) (where $\\alpha \\in \\mathbb{R}$, $\\alpha \\leq 1$) of our capital $s$. Now, we need to find the best $\\alpha$."
   ]
  },
  {
   "cell_type": "code",
   "execution_count": 13,
   "id": "fee9acd9",
   "metadata": {},
   "outputs": [
    {
     "data": {
      "text/plain": [
       "[<matplotlib.lines.Line2D at 0x7fbd81e87b50>]"
      ]
     },
     "execution_count": 13,
     "metadata": {},
     "output_type": "execute_result"
    },
    {
     "data": {
      "image/png": "[encoded data removed]",
      "text/plain": [
       "<Figure size 432x288 with 1 Axes>"
      ]
     },
     "metadata": {
      "needs_background": "light"
     },
     "output_type": "display_data"
    }
   ],
   "source": [
    "factors = np.linspace(0.01, 1, 25)\n",
    "bals = np.empty(len(factors))\n",
    "\n",
    "for i in range(len(factors)):\n",
    "    bals[i] = run_kelly(df, factors[i], False)\n",
    "    \n",
    "plt.plot(factors, bals)"
   ]
  },
  {
   "cell_type": "markdown",
   "id": "8cb74e1b",
   "metadata": {},
   "source": [
    "A rough estimate of the maximal $\\alpha$ is $1$ and we arrive at our final strategy. This current strategy will theoretically benefit from leverage, however leverage in betting is typically not feasible."
   ]
  },
  {
   "cell_type": "code",
   "execution_count": 18,
   "id": "42c94327",
   "metadata": {},
   "outputs": [
    {
     "data": {
      "image/png": "[encoded data removed]",
      "text/plain": [
       "<Figure size 432x288 with 2 Axes>"
      ]
     },
     "metadata": {
      "needs_background": "light"
     },
     "output_type": "display_data"
    },
    {
     "name": "stdout",
     "output_type": "stream",
     "text": [
      "Final balance of $1301.66 with a maximum of $1581.56, returns of 30.17%\n",
      "This strategy had a winning rate of 84.21%\n"
     ]
    },
    {
     "data": {
      "text/plain": [
       "1301.6572488216073"
      ]
     },
     "execution_count": 18,
     "metadata": {},
     "output_type": "execute_result"
    }
   ],
   "source": [
    "run_kelly(df, 0.8, True, metric=np.quantile(ideal_odds, 0.1))"
   ]
  },
  {
   "cell_type": "code",
   "execution_count": 15,
   "id": "125187a1",
   "metadata": {},
   "outputs": [
    {
     "data": {
      "image/png": "[encoded data removed]",
      "text/plain": [
       "<Figure size 432x288 with 1 Axes>"
      ]
     },
     "metadata": {
      "needs_background": "light"
     },
     "output_type": "display_data"
    },
    {
     "name": "stdout",
     "output_type": "stream",
     "text": [
      "Optimal test metric of 0.1020408163265306\n",
      "Optimal train metric of 0.07142857142857142\n"
     ]
    }
   ],
   "source": [
    "def find_metric():\n",
    "    metrics = np.linspace(0, 0.5, 50)\n",
    "    bals = np.empty(len(metrics))\n",
    "\n",
    "    for i in range(len(metrics)):\n",
    "        bals[i] = run_kelly(df, 1, False, metric=np.quantile(ideal_odds, metrics[i]))\n",
    "\n",
    "    plt.plot(metrics, bals)\n",
    "\n",
    "    train_bals = np.empty(len(metrics))\n",
    "    for i in range(len(metrics)):\n",
    "        train_bals[i] = run_kelly(df_train, 1, False, metric=np.quantile(ideal_odds, metrics[i]))\n",
    "\n",
    "    plt.plot(metrics, train_bals, c='g')\n",
    "    plt.show()\n",
    "    print(f\"Optimal test metric of {metrics[np.argmax(bals)]}\")\n",
    "    print(f\"Optimal train metric of {metrics[np.argmax(train_bals)]}\")"
   ]
  }
 ],
 "metadata": {
  "kernelspec": {
   "display_name": "Python 3",
   "language": "python",
   "name": "python3"
  },
  "language_info": {
   "codemirror_mode": {
    "name": "ipython",
    "version": 3
   },
   "file_extension": ".py",
   "mimetype": "text/x-python",
   "name": "python",
   "nbconvert_exporter": "python",
   "pygments_lexer": "ipython3",
   "version": "3.9.7"
  }
 },
 "nbformat": 4,
 "nbformat_minor": 5
}
