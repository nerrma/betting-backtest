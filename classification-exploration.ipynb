{
 "cells": [
  {
   "cell_type": "code",
   "execution_count": 149,
   "id": "e06a73bf",
   "metadata": {},
   "outputs": [],
   "source": [
    "import numpy as np\n",
    "import pandas as pd\n",
    "import matplotlib.pyplot as plt\n",
    "import xgboost as xgb\n",
    "from sklearn.model_selection import train_test_split\n",
    "from sklearn.metrics import log_loss, accuracy_score\n",
    "from sklearn.preprocessing import LabelEncoder"
   ]
  },
  {
   "cell_type": "code",
   "execution_count": 150,
   "id": "ca9822ca",
   "metadata": {},
   "outputs": [],
   "source": [
    "df = pd.read_csv('epl_odds_2020.csv')\n",
    "df_t = pd.read_csv('epl_odds.csv')"
   ]
  },
  {
   "cell_type": "code",
   "execution_count": 151,
   "id": "02f95a5d",
   "metadata": {},
   "outputs": [],
   "source": [
    "cols = ['FTR', 'AvgH', 'AvgD', 'AvgA']\n",
    "df = df.filter(cols)\n",
    "\n",
    "X_train = df.drop('FTR', axis=1)\n",
    "y_train = df['FTR']\n",
    "\n",
    "y_train = LabelEncoder().fit_transform(y_train)"
   ]
  },
  {
   "cell_type": "code",
   "execution_count": 152,
   "id": "586fcab4",
   "metadata": {},
   "outputs": [],
   "source": [
    "df_t = df_t.filter(cols)\n",
    "\n",
    "X_test = df_t.drop('FTR', axis=1)\n",
    "y_test = df_t['FTR']\n",
    "\n",
    "y_test = LabelEncoder().fit_transform(y_test)"
   ]
  },
  {
   "cell_type": "code",
   "execution_count": 153,
   "id": "a14d13fe",
   "metadata": {},
   "outputs": [],
   "source": [
    "#X_train, X_test, y_train, y_test = train_test_split(X, y, test_size=0.3)"
   ]
  },
  {
   "cell_type": "code",
   "execution_count": 154,
   "id": "7db5910d",
   "metadata": {},
   "outputs": [
    {
     "data": {
      "text/plain": [
       "XGBClassifier(base_score=0.5, booster='gbtree', colsample_bylevel=1,\n",
       "              colsample_bynode=1, colsample_bytree=0.45, gamma=2.5, gpu_id=-1,\n",
       "              importance_type='gain', interaction_constraints='',\n",
       "              learning_rate=0.300000012, max_delta_step=0, max_depth=5,\n",
       "              min_child_weight=1, missing=nan, monotone_constraints='()',\n",
       "              n_estimators=100, n_jobs=12, num_parallel_tree=1,\n",
       "              objective='multi:softprob', random_state=0, reg_alpha=0,\n",
       "              reg_lambda=1, scale_pos_weight=None, subsample=1,\n",
       "              tree_method='exact', use_label_encoder=False,\n",
       "              validate_parameters=1, verbosity=None)"
      ]
     },
     "execution_count": 154,
     "metadata": {},
     "output_type": "execute_result"
    }
   ],
   "source": [
    "clf = xgb.XGBClassifier(max_depth=5, gamma=2.5, colsample_bytree=0.45, use_label_encoder=False) \n",
    "clf.fit(X_train, y_train, eval_metric=\"logloss\")"
   ]
  },
  {
   "cell_type": "code",
   "execution_count": 155,
   "id": "394b98ba",
   "metadata": {},
   "outputs": [
    {
     "data": {
      "text/plain": [
       "0.5333333333333333"
      ]
     },
     "execution_count": 155,
     "metadata": {},
     "output_type": "execute_result"
    }
   ],
   "source": [
    "accuracy_score(clf.predict(X_test), y_test)"
   ]
  },
  {
   "cell_type": "code",
   "execution_count": 156,
   "id": "3df883d3",
   "metadata": {},
   "outputs": [
    {
     "data": {
      "text/plain": [
       "0.5684210526315789"
      ]
     },
     "execution_count": 156,
     "metadata": {},
     "output_type": "execute_result"
    }
   ],
   "source": [
    "accuracy_score(clf.predict(X_train), y_train)"
   ]
  }
 ],
 "metadata": {
  "kernelspec": {
   "display_name": "Python 3",
   "language": "python",
   "name": "python3"
  },
  "language_info": {
   "codemirror_mode": {
    "name": "ipython",
    "version": 3
   },
   "file_extension": ".py",
   "mimetype": "text/x-python",
   "name": "python",
   "nbconvert_exporter": "python",
   "pygments_lexer": "ipython3",
   "version": "3.9.7"
  }
 },
 "nbformat": 4,
 "nbformat_minor": 5
}
